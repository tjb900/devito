{
 "cells": [
  {
   "cell_type": "markdown",
   "metadata": {
    "collapsed": true
   },
   "source": [
    "# 04 - How to do FWI with Dask\n"
   ]
  },
  {
   "cell_type": "code",
   "execution_count": 1,
   "metadata": {
    "collapsed": true
   },
   "outputs": [],
   "source": [
    "import dask\n",
    "from distributed import Client\n",
    "\n",
    "from scipy import optimize\n",
    "\n",
    "from devito import DenseData, clear_cache\n",
    "from examples.seismic.acoustic import AcousticWaveSolver\n",
    "from examples.seismic import Model\n",
    "\n",
    "from examples.seismic import demo_model\n",
    "from examples.seismic import RickerSource, Receiver\n",
    "\n",
    "import numpy as np\n",
    "\n",
    "# Define true and initial model\n",
    "def get_grid():\n",
    "    shape = (101, 101)  # Number of grid point (nx, nz)\n",
    "    spacing = (10., 10.)  # Grid spacing in m. The domain size is now 1km by 1km\n",
    "    origin = (0., 0.)  # Need origin to define relative source and receiver locations\n",
    "\n",
    "    return shape, spacing, origin\n",
    "\n",
    "def get_true_model():\n",
    "    shape, spacing, origin = get_grid()\n",
    "    return demo_model('circle-isotropic', vp=3.0, vp_background=2.5, \n",
    "                      origin=origin, shape=shape, spacing=spacing, nbpml=40)\n",
    "\n",
    "def get_initial_model():\n",
    "    shape, spacing, origin = get_grid()\n",
    "\n",
    "    return demo_model('circle-isotropic', vp=2.5, vp_background=2.5, \n",
    "                      origin=origin, shape=shape, spacing=spacing, nbpml=40)\n",
    "\n",
    "def dump_model(param, model):\n",
    "    np.save(param['model'], model.astype(np.float32))\n",
    "\n",
    "def load_model(param):\n",
    "    return np.load(param['model'])\n",
    "\n",
    "def get_current_model(param):\n",
    "    model = get_initial_model()\n",
    "    model.m.data[:] = np.reshape(load_model(param), model.m.data.shape)\n",
    "    return model\n",
    "\n",
    "# Define acquisition geometry: source\n",
    "def get_data(param):\n",
    "    \"\"\" Returns source and receiver data for shot i.\n",
    "    \"\"\"\n",
    "    true_model = get_true_model()\n",
    "    dt = true_model.critical_dt  # Time step from model grid spacing\n",
    "\n",
    "    # Set up src\n",
    "    nt = int(1 + (param['tn']-param['t0']) / dt)  # Discrete time axis length\n",
    "\n",
    "    src = RickerSource(name='src', ndim=2, f0=param['f0'],\n",
    "                       time=np.linspace(param['t0'], param['tn'], nt))\n",
    "    src.coordinates.data[0, :] = [30, param['shot_id']*1000./(param['nshots']-1)]\n",
    "\n",
    "    # Set up rec\n",
    "    nreceivers = 101  # Number of receiver locations per shot\n",
    "    rec = Receiver(name='rec', npoint=nreceivers, ntime=nt, ndim=2)\n",
    "    rec.coordinates.data[:, 1] = np.linspace(0, true_model.domain_size[0], num=nreceivers)\n",
    "    rec.coordinates.data[:, 0] = 980. # 20m from the right end\n",
    "\n",
    "    # Set up solver - using model_in so that we have the same dt\n",
    "    solver = AcousticWaveSolver(true_model, src, rec, space_order=4)\n",
    "\n",
    "    # Generate synthetic receiver data from true model\n",
    "    true_d, _, _ = solver.forward(src=src, m=true_model.m)\n",
    "\n",
    "    return src, true_d, nt, solver\n",
    "\n",
    "# Create FWI gradient kernel \n",
    "def fwi_gradient_i(work):\n",
    "    clear_cache()\n",
    "    \n",
    "    param, shot_id = work\n",
    "    param['shot_id'] = shot_id\n",
    "\n",
    "    model0 = get_current_model(param)\n",
    "    src, rec, nt, solver = get_data(param)\n",
    "    \n",
    "    # Create symbols to hold the gradient and residual\n",
    "    grad = DenseData(name=\"grad\", grid=model0.grid)\n",
    "    residual = Receiver(name='rec', ntime=nt, coordinates=rec.coordinates.data)\n",
    "    \n",
    "    # Compute simulated data and full forward wavefield u0\n",
    "    d, u0, _ = solver.forward(src=src, m=model0.m, save=True)\n",
    "        \n",
    "    # Compute gradient from data residual and update objective function \n",
    "    residual.data[:] = d.data[:] - rec.data[:]\n",
    "    f = .5*np.linalg.norm(residual.data.flatten())**2\n",
    "    \n",
    "    solver.gradient(rec=residual, u=u0, m=model0.m, grad=grad)\n",
    "    \n",
    "    # Take a copy of the gradient as async-comms can result in the\n",
    "    # solution being erased (via clear_cache) before reduction is\n",
    "    # performed.\n",
    "    g = np.array(grad.data[:])\n",
    "    \n",
    "    g[0:25,:] = 0.\n",
    "    g[-25:,:] = 0.\n",
    "\n",
    "    return f, g\n",
    "\n",
    "def sum_pairs_g(a, b):\n",
    "    return a[0]+b[0], a[1]+b[1]\n",
    "\n",
    "def sum_g(client, futures):\n",
    "    # Simple tree reduction\n",
    "    while len(futures) > 1:  # while there is more than one element left\n",
    "        # Add neighbors\n",
    "        remainder = None\n",
    "        if len(futures)%2==1:\n",
    "            remainder = futures[-1]\n",
    "        futures = [client.submit(sum_pairs_g, a, b)\n",
    "                   for a, b in zip(futures[::2], futures[1::2])]\n",
    "        if remainder: \n",
    "            futures.append(remainder)\n",
    "    return futures[0]\n",
    "\n",
    "def fwi_gradient(model, parameters):\n",
    "    param['model'] = \"model_0.npy\"\n",
    "    dump_model(param, model)\n",
    "\n",
    "    client = Client()\n",
    "    \n",
    "    work = [(param, i) for i in range(parameters['nshots'])]\n",
    "    gi = client.map(fwi_gradient_i, work)\n",
    "    f, g = sum_g(client, gi).result()\n",
    "    client.close()\n",
    "    \n",
    "    return f, g.flatten().astype(np.float64)\n",
    "\n",
    "def fwi(model, param): \n",
    "    result = optimize.minimize(fwi_gradient, model.m.data.flatten().astype(np.float64), args=(param, ),\n",
    "            method='L-BFGS-B', jac=True, bounds=tuple((0.08, 0.25) for i in range(model.m.data.flatten().size)),\n",
    "            options={'ftol':0.05, 'maxiter':100, 'disp':True})\n",
    "\n",
    "    return result"
   ]
  },
  {
   "cell_type": "code",
   "execution_count": 2,
   "metadata": {},
   "outputs": [
    {
     "name": "stderr",
     "output_type": "stream",
     "text": [
      "distributed.scheduler - CRITICAL - Tried writing to closed comm: {'op': 'lost-data', 'key': 'fwi_gradient_i-9019d9d2dfe1e81bef01a9000a2d1a89'}\n"
     ]
    }
   ],
   "source": [
    "if __name__ == '__main__':\n",
    "\n",
    "    # Set up inversion parameters. We need to make sure that we\n",
    "    # broadcast the model as a numpy array - otherwise dask doesn't\n",
    "    # recognise when it has changed and won't re-broadcast.\n",
    "    param = {'t0':0.,\n",
    "             'tn':1000.,  # Simulation last 1 second (1000 ms)\n",
    "             'f0':0.010,  # Source peak frequency is 10Hz (0.010 kHz)\n",
    "             'nshots':21} # Number of shots to create gradient from\n",
    "\n",
    "    model0 = get_initial_model()\n",
    "    result = fwi(model0, param)"
   ]
  },
  {
   "cell_type": "code",
   "execution_count": 3,
   "metadata": {},
   "outputs": [
    {
     "name": "stdout",
     "output_type": "stream",
     "text": [
      "      fun: 73.472999684088393\n",
      " hess_inv: <32761x32761 LbfgsInvHessProduct with dtype=float64>\n",
      "      jac: array([ 0.,  0.,  0., ...,  0.,  0.,  0.])\n",
      "  message: b'CONVERGENCE: REL_REDUCTION_OF_F_<=_FACTR*EPSMCH'\n",
      "     nfev: 21\n",
      "      nit: 18\n",
      "   status: 0\n",
      "  success: True\n",
      "        x: array([ 0.16,  0.16,  0.16, ...,  0.16,  0.16,  0.16])\n",
      "<examples.seismic.model.Model object at 0x110b6cf60>\n"
     ]
    }
   ],
   "source": [
    "print(result)\n",
    "print(model0)"
   ]
  },
  {
   "cell_type": "code",
   "execution_count": 4,
   "metadata": {
    "scrolled": true
   },
   "outputs": [
    {
     "data": {
      "image/png": "[encoded data removed]",
      "text/plain": [
       "<matplotlib.figure.Figure at 0x11117f320>"
      ]
     },
     "metadata": {},
     "output_type": "display_data"
    }
   ],
   "source": [
    "# Plot FWI gradient and model update\n",
    "from examples.seismic import plot_image\n",
    "\n",
    "# Show what the update does to the model\n",
    "plot_image(result.x.reshape(181, 181), vmin=.08, vmax=.25, cmap=\"seismic\")"
   ]
  },
  {
   "cell_type": "code",
   "execution_count": null,
   "metadata": {
    "collapsed": true
   },
   "outputs": [],
   "source": []
  }
 ],
 "metadata": {
  "anaconda-cloud": {},
  "kernelspec": {
   "display_name": "Python 3",
   "language": "python",
   "name": "python3"
  },
  "language_info": {
   "codemirror_mode": {
    "name": "ipython",
    "version": 3
   },
   "file_extension": ".py",
   "mimetype": "text/x-python",
   "name": "python",
   "nbconvert_exporter": "python",
   "pygments_lexer": "ipython3",
   "version": "3.6.2"
  }
 },
 "nbformat": 4,
 "nbformat_minor": 1
}
